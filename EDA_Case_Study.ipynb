{
 "cells": [
  {
   "cell_type": "markdown",
   "metadata": {},
   "source": [
    "# Loan Data Analysis\n"
   ]
  },
  {
   "cell_type": "code",
   "execution_count": 1,
   "metadata": {},
   "outputs": [],
   "source": [
    "%config IPCompleter.greedy=True"
   ]
  },
  {
   "cell_type": "code",
   "execution_count": 2,
   "metadata": {},
   "outputs": [],
   "source": [
    "# Import libraries\n",
    "import numpy as np\n",
    "import pandas as pd\n",
    "import matplotlib.pyplot as plt\n",
    "import seaborn as sns\n",
    "import datetime"
   ]
  },
  {
   "cell_type": "code",
   "execution_count": 3,
   "metadata": {},
   "outputs": [
    {
     "name": "stderr",
     "output_type": "stream",
     "text": [
      "C:\\Users\\soumi\\Anaconda3\\lib\\site-packages\\IPython\\core\\interactiveshell.py:2785: DtypeWarning: Columns (47) have mixed types. Specify dtype option on import or set low_memory=False.\n",
      "  interactivity=interactivity, compiler=compiler, result=result)\n"
     ]
    },
    {
     "data": {
      "text/plain": [
       "(39717, 111)"
      ]
     },
     "execution_count": 3,
     "metadata": {},
     "output_type": "execute_result"
    }
   ],
   "source": [
    "#Reading the data\n",
    "Loan_Src = pd.read_csv(\"C:/Users/soumi/Documents/Upgrad/EDA group study/loan.csv\")\n",
    "Loan_Src.shape"
   ]
  },
  {
   "cell_type": "markdown",
   "metadata": {},
   "source": [
    "## Data Cleansing\n",
    "### 1. Remove columns having no data"
   ]
  },
  {
   "cell_type": "code",
   "execution_count": 4,
   "metadata": {},
   "outputs": [
    {
     "name": "stdout",
     "output_type": "stream",
     "text": [
      "(39717, 57)\n"
     ]
    }
   ],
   "source": [
    "# Null Information on datasets\n",
    "IssCols=Loan_Src.isnull().sum(axis=0)\n",
    "\n",
    "#Identifying Columns which contain no data\n",
    "IssCols = IssCols.where(IssCols==39717)\n",
    "IssCols = IssCols[~np.isnan(IssCols)]\n",
    "IssCol = list(IssCols.index)\n",
    "\n",
    "#Drop redundant columns\n",
    "Loan_Src2=Loan_Src.drop(IssCol,axis=1)\n",
    "\n",
    "print(Loan_Src2.shape)"
   ]
  },
  {
   "cell_type": "code",
   "execution_count": 5,
   "metadata": {
    "scrolled": true
   },
   "outputs": [
    {
     "name": "stdout",
     "output_type": "stream",
     "text": [
      "<class 'pandas.core.frame.DataFrame'>\n",
      "RangeIndex: 39717 entries, 0 to 39716\n",
      "Data columns (total 57 columns):\n",
      "id                            39717 non-null int64\n",
      "member_id                     39717 non-null int64\n",
      "loan_amnt                     39717 non-null int64\n",
      "funded_amnt                   39717 non-null int64\n",
      "funded_amnt_inv               39717 non-null float64\n",
      "term                          39717 non-null object\n",
      "int_rate                      39717 non-null object\n",
      "installment                   39717 non-null float64\n",
      "grade                         39717 non-null object\n",
      "sub_grade                     39717 non-null object\n",
      "emp_title                     37258 non-null object\n",
      "emp_length                    38642 non-null object\n",
      "home_ownership                39717 non-null object\n",
      "annual_inc                    39717 non-null float64\n",
      "verification_status           39717 non-null object\n",
      "issue_d                       39717 non-null object\n",
      "loan_status                   39717 non-null object\n",
      "pymnt_plan                    39717 non-null object\n",
      "url                           39717 non-null object\n",
      "desc                          26777 non-null object\n",
      "purpose                       39717 non-null object\n",
      "title                         39706 non-null object\n",
      "zip_code                      39717 non-null object\n",
      "addr_state                    39717 non-null object\n",
      "dti                           39717 non-null float64\n",
      "delinq_2yrs                   39717 non-null int64\n",
      "earliest_cr_line              39717 non-null object\n",
      "inq_last_6mths                39717 non-null int64\n",
      "mths_since_last_delinq        14035 non-null float64\n",
      "mths_since_last_record        2786 non-null float64\n",
      "open_acc                      39717 non-null int64\n",
      "pub_rec                       39717 non-null int64\n",
      "revol_bal                     39717 non-null int64\n",
      "revol_util                    39667 non-null object\n",
      "total_acc                     39717 non-null int64\n",
      "initial_list_status           39717 non-null object\n",
      "out_prncp                     39717 non-null float64\n",
      "out_prncp_inv                 39717 non-null float64\n",
      "total_pymnt                   39717 non-null float64\n",
      "total_pymnt_inv               39717 non-null float64\n",
      "total_rec_prncp               39717 non-null float64\n",
      "total_rec_int                 39717 non-null float64\n",
      "total_rec_late_fee            39717 non-null float64\n",
      "recoveries                    39717 non-null float64\n",
      "collection_recovery_fee       39717 non-null float64\n",
      "last_pymnt_d                  39646 non-null object\n",
      "last_pymnt_amnt               39717 non-null float64\n",
      "next_pymnt_d                  1140 non-null object\n",
      "last_credit_pull_d            39715 non-null object\n",
      "collections_12_mths_ex_med    39661 non-null float64\n",
      "policy_code                   39717 non-null int64\n",
      "application_type              39717 non-null object\n",
      "acc_now_delinq                39717 non-null int64\n",
      "chargeoff_within_12_mths      39661 non-null float64\n",
      "delinq_amnt                   39717 non-null int64\n",
      "pub_rec_bankruptcies          39020 non-null float64\n",
      "tax_liens                     39678 non-null float64\n",
      "dtypes: float64(20), int64(13), object(24)\n",
      "memory usage: 17.3+ MB\n"
     ]
    }
   ],
   "source": [
    "#null value check\n",
    "Loan_Src2.info()"
   ]
  },
  {
   "cell_type": "code",
   "execution_count": 6,
   "metadata": {},
   "outputs": [
    {
     "name": "stdout",
     "output_type": "stream",
     "text": [
      "pymnt_plan                    1.0\n",
      "initial_list_status           1.0\n",
      "collections_12_mths_ex_med    1.0\n",
      "policy_code                   1.0\n",
      "application_type              1.0\n",
      "acc_now_delinq                1.0\n",
      "chargeoff_within_12_mths      1.0\n",
      "delinq_amnt                   1.0\n",
      "tax_liens                     1.0\n",
      "dtype: float64\n"
     ]
    }
   ],
   "source": [
    "Unique=Loan_Src2.T.apply(lambda x: x.nunique(),axis=1)\n",
    "Unique=Unique.where(Unique==1)\n",
    "Unique=Unique[~np.isnan(Unique)]\n",
    "print(Unique)"
   ]
  },
  {
   "cell_type": "markdown",
   "metadata": {},
   "source": [
    "### for these columns we will not perform univariate analysis"
   ]
  },
  {
   "cell_type": "markdown",
   "metadata": {},
   "source": [
    "## Derived Metrices"
   ]
  },
  {
   "cell_type": "code",
   "execution_count": 7,
   "metadata": {},
   "outputs": [
    {
     "name": "stdout",
     "output_type": "stream",
     "text": [
      "0    1985\n",
      "1    1999\n",
      "2    2018\n",
      "3    1996\n",
      "4    1996\n",
      "5    2018\n",
      "6    2018\n",
      "7    2018\n",
      "8    2018\n",
      "9    2018\n",
      "Name: cr_line_Yr, dtype: object\n"
     ]
    }
   ],
   "source": [
    "Loan_Src2['cr_line_Yr']=Loan_Src2['earliest_cr_line'].apply(lambda x:x.split(\"/\")[2])\n",
    "print(Loan_Src2['cr_line_Yr'].head(10))"
   ]
  },
  {
   "cell_type": "code",
   "execution_count": 8,
   "metadata": {},
   "outputs": [],
   "source": [
    "#Adding a variable loan to Annual Income ratio\n",
    "Loan_Src2['LoantoIncomeRatio']=round(Loan_Src2['loan_amnt']/Loan_Src2['annual_inc'],1)\n"
   ]
  },
  {
   "cell_type": "code",
   "execution_count": 9,
   "metadata": {},
   "outputs": [],
   "source": [
    "#Add a variable - Recovered principal amount/loan amount ratio\n",
    "Loan_Src2['RcvdtoLoanRatio']=round(Loan_Src2['total_rec_prncp']/Loan_Src2['loan_amnt'],1)\n",
    "Loan_Src2.to_csv('Loan_Data_updated.csv')"
   ]
  },
  {
   "cell_type": "code",
   "execution_count": 29,
   "metadata": {},
   "outputs": [],
   "source": [
    "#Removing % sign from revol_util column\n",
    "Loan_Src2['revol_util'] = Loan_Src2['revol_util'].str.rstrip('%').astype('float') \n",
    "def RevolBalSection(y):\n",
    "    try:\n",
    "        if y<=10:\n",
    "            time=\"10\"\n",
    "        elif y<=20:\n",
    "            time=\"20\"\n",
    "        elif y<=30:\n",
    "            time=\"30\"\n",
    "        elif y<=40:\n",
    "            time=\"40\"\n",
    "        elif y<=50:\n",
    "            time=\"50\"\n",
    "        elif y<=60:\n",
    "            time=\"60\"\n",
    "        elif y<=70:\n",
    "            time=\"70\"\n",
    "        elif y<=80:\n",
    "            time=\"80\"\n",
    "        elif y<=90:\n",
    "            time=\"90\"\n",
    "        else:\n",
    "            time=\"90+\"\n",
    "        return time\n",
    "    except:\n",
    "        return \"NA\"\n",
    "# Calculate Revol Balance bucket\n",
    "Loan_Src2['RevolBalBckt']=Loan_Src2['revol_util'].apply(RevolBalSection)\n",
    "#print(Loan_Src2['RevolBalBckt'])"
   ]
  },
  {
   "cell_type": "code",
   "execution_count": 10,
   "metadata": {},
   "outputs": [
    {
     "name": "stdout",
     "output_type": "stream",
     "text": [
      "        id  member_id  loan_amnt  funded_amnt  funded_amnt_inv        term  \\\n",
      "0  1077501    1296599       5000         5000           4975.0   36 months   \n",
      "1  1077430    1314167       2500         2500           2500.0   60 months   \n",
      "2  1077175    1313524       2400         2400           2400.0   36 months   \n",
      "3  1076863    1277178      10000        10000          10000.0   36 months   \n",
      "4  1075358    1311748       3000         3000           3000.0   60 months   \n",
      "\n",
      "  int_rate  installment grade sub_grade   ...    application_type  \\\n",
      "0   10.65%       162.87     B        B2   ...          INDIVIDUAL   \n",
      "1   15.27%        59.83     C        C4   ...          INDIVIDUAL   \n",
      "2   15.96%        84.33     C        C5   ...          INDIVIDUAL   \n",
      "3   13.49%       339.31     C        C1   ...          INDIVIDUAL   \n",
      "4   12.69%        67.79     B        B5   ...          INDIVIDUAL   \n",
      "\n",
      "  acc_now_delinq chargeoff_within_12_mths  delinq_amnt pub_rec_bankruptcies  \\\n",
      "0              0                      0.0            0                  0.0   \n",
      "1              0                      0.0            0                  0.0   \n",
      "2              0                      0.0            0                  0.0   \n",
      "3              0                      0.0            0                  0.0   \n",
      "4              0                      0.0            0                  0.0   \n",
      "\n",
      "  tax_liens cr_line_Yr LoantoIncomeRatio RcvdtoLoanRatio DTIClass  \n",
      "0       0.0       1985               0.2             1.0    26-30  \n",
      "1       0.0       1999               0.1             0.2      0-5  \n",
      "2       0.0       2018               0.2             1.0     5-10  \n",
      "3       0.0       1996               0.2             1.0    16-20  \n",
      "4       0.0       1996               0.0             0.8    16-20  \n",
      "\n",
      "[5 rows x 61 columns]\n"
     ]
    }
   ],
   "source": [
    "# DTI bins calculation\n",
    "def DTISection(y):\n",
    "    try:\n",
    "        if y<=5:\n",
    "            time=\"0-5\"\n",
    "        elif y<=10:\n",
    "            time=\"5-10\"\n",
    "        elif y<=15:\n",
    "            time=\"11-15\"\n",
    "        elif y<=20:\n",
    "            time=\"16-20\"\n",
    "        elif y<=25:\n",
    "            time=\"21-25\"\n",
    "        elif y<=30:\n",
    "            time=\"26-30\"\n",
    "        else:\n",
    "            time=\"unknown\"\n",
    "        return time\n",
    "    except:\n",
    "        return \"NA\"\n",
    "# Calculate DTI bucket\n",
    "Loan_Src2['DTIClass']=Loan_Src2['dti'].apply(DTISection)\n",
    "print(Loan_Src2.head())"
   ]
  },
  {
   "cell_type": "code",
   "execution_count": 11,
   "metadata": {},
   "outputs": [],
   "source": [
    "# Calculate the Bins for total number of Line of Credits\n",
    "def LOCSection(y):\n",
    "    try:\n",
    "        if y<=10:\n",
    "            time=\"10\"\n",
    "        elif y<=20:\n",
    "            time=\"20\"\n",
    "        elif y<=30:\n",
    "            time=\"30\"\n",
    "        elif y<=40:\n",
    "            time=\"40\"\n",
    "        elif y<=50:\n",
    "            time=\"50\"\n",
    "        elif y<=60:\n",
    "            time=\"60\"\n",
    "        else:\n",
    "            time=\"60+\"\n",
    "        return time\n",
    "    except:\n",
    "        return \"NA\"\n",
    "# Calculate DTI bucket\n",
    "Loan_Src2['total_acc_buckt']=Loan_Src2['total_acc'].apply(LOCSection)"
   ]
  },
  {
   "cell_type": "code",
   "execution_count": 16,
   "metadata": {},
   "outputs": [
    {
     "name": "stdout",
     "output_type": "stream",
     "text": [
      "0        0.08\n",
      "1        0.02\n",
      "2        0.08\n",
      "3        0.08\n",
      "4        0.01\n",
      "5        0.05\n",
      "6        0.04\n",
      "7        0.03\n",
      "8        0.05\n",
      "9        0.10\n",
      "10       0.03\n",
      "11       0.06\n",
      "12       0.12\n",
      "13       0.08\n",
      "14       0.04\n",
      "15       0.02\n",
      "16       0.10\n",
      "17       0.01\n",
      "18       0.03\n",
      "19       0.04\n",
      "20       0.13\n",
      "21       0.08\n",
      "22       0.08\n",
      "23       0.08\n",
      "24       0.03\n",
      "25       0.06\n",
      "26       0.10\n",
      "27       0.03\n",
      "28       0.01\n",
      "29       0.13\n",
      "         ... \n",
      "39687    0.06\n",
      "39688    0.06\n",
      "39689    0.02\n",
      "39690    0.08\n",
      "39691    0.02\n",
      "39692    0.01\n",
      "39693    0.10\n",
      "39694    0.01\n",
      "39695    0.02\n",
      "39696    0.20\n",
      "39697    0.14\n",
      "39698    0.03\n",
      "39699    0.06\n",
      "39700    0.25\n",
      "39701    0.03\n",
      "39702    0.07\n",
      "39703    0.01\n",
      "39704    0.05\n",
      "39705    0.02\n",
      "39706    0.01\n",
      "39707    0.01\n",
      "39708    0.04\n",
      "39709    0.02\n",
      "39710    0.02\n",
      "39711    0.03\n",
      "39712    0.01\n",
      "39713    0.18\n",
      "39714    0.02\n",
      "39715    0.01\n",
      "39716    0.14\n",
      "Name: InstallmenttoIncomeRatio, Length: 39717, dtype: float64\n"
     ]
    }
   ],
   "source": [
    "Loan_Src2['InstallmenttoIncomeRatio']=round((Loan_Src2['installment']*12)/Loan_Src2['annual_inc'],2)\n",
    "print(Loan_Src2['InstallmenttoIncomeRatio'])"
   ]
  },
  {
   "cell_type": "markdown",
   "metadata": {},
   "source": [
    "## Analysis - Univariate"
   ]
  },
  {
   "cell_type": "markdown",
   "metadata": {},
   "source": [
    "## #Analysis 1 - Tenure wise analysis - Defaulter rate "
   ]
  },
  {
   "cell_type": "code",
   "execution_count": 52,
   "metadata": {},
   "outputs": [
    {
     "name": "stdout",
     "output_type": "stream",
     "text": [
      "loan_status  Charged Off  Current  Fully Paid  Ratio\n",
      "term                                                \n",
      " 36 months        3227.0      NaN     25869.0   0.12\n",
      " 60 months        2400.0   1140.0      7081.0   0.34\n"
     ]
    },
    {
     "data": {
      "image/png": "[encoded data removed]",
      "text/plain": [
       "<Figure size 432x288 with 1 Axes>"
      ]
     },
     "metadata": {},
     "output_type": "display_data"
    },
    {
     "name": "stdout",
     "output_type": "stream",
     "text": [
      "0.23\n"
     ]
    }
   ],
   "source": [
    "Loan_Src2_Analysis = Loan_Src2.pivot_table(values='id',index='term',columns='loan_status',aggfunc='count')\n",
    "Loan_Src2_Analysis['Ratio'] = round(Loan_Src2_Analysis['Charged Off']/Loan_Src2_Analysis['Fully Paid'],2)\n",
    "print(Loan_Src2_Analysis)\n",
    "Loan_Src2_Analysis.plot(y=[\"Ratio\"],kind=\"bar\")\n",
    "plt.show()\n",
    "print(Loan_Src2_Analysis['Ratio'].mean())"
   ]
  },
  {
   "cell_type": "markdown",
   "metadata": {},
   "source": [
    "#### Finding 1: 60 months tenure is more risky"
   ]
  },
  {
   "cell_type": "markdown",
   "metadata": {},
   "source": [
    "## #Analysis 2 - Defaulter analysis - Loan Amount to Yearly income"
   ]
  },
  {
   "cell_type": "code",
   "execution_count": 53,
   "metadata": {},
   "outputs": [
    {
     "name": "stdout",
     "output_type": "stream",
     "text": [
      "loan_status        Charged Off  Current  Fully Paid  Ratio\n",
      "LoantoIncomeRatio                                         \n",
      "0.0                        312       25        2587   0.12\n",
      "0.1                       1672      236       12834   0.13\n",
      "0.2                       1645      343       10071   0.16\n",
      "0.3                       1074      265        4592   0.23\n",
      "0.4                        566      160        2028   0.28\n",
      "0.5                        281       95         678   0.41\n",
      "0.6                         64       14         125   0.51\n",
      "0.7                         10        1          28   0.36\n",
      "0.8                          3        1           7   0.43\n"
     ]
    },
    {
     "data": {
      "image/png": "[encoded data removed]",
      "text/plain": [
       "<Figure size 432x288 with 1 Axes>"
      ]
     },
     "metadata": {},
     "output_type": "display_data"
    },
    {
     "name": "stdout",
     "output_type": "stream",
     "text": [
      "0.29222222222222227\n"
     ]
    }
   ],
   "source": [
    "Loan_Src2_Analysis = Loan_Src2.pivot_table(values='id',index='LoantoIncomeRatio',columns='loan_status',aggfunc='count')\n",
    "Loan_Src2_Analysis['Ratio']=round(Loan_Src2_Analysis['Charged Off']/Loan_Src2_Analysis['Fully Paid'],2)\n",
    "print(Loan_Src2_Analysis)\n",
    "data = Loan_Src2_Analysis[\"Ratio\"]\n",
    "pal = sns.color_palette(\"coolwarm\", len(data))\n",
    "rank = data.argsort().argsort()\n",
    "sns.barplot(x=data.index, y=data, palette=np.array(pal[::-1])[rank])\n",
    "#Loan_Src2_Analysis.plot(y=[\"Ratio\"],kind=\"bar\")\n",
    "plt.show()\n",
    "print(Loan_Src2_Analysis['Ratio'].mean())"
   ]
  },
  {
   "cell_type": "markdown",
   "metadata": {},
   "source": [
    "#### Finding 2: loan amount upto 30% of annual income has comparatively low risk of default; loan amount 30 - 40 % has moderate range of risk; above 40 % has high risk\n"
   ]
  },
  {
   "cell_type": "markdown",
   "metadata": {},
   "source": [
    "## Analysis 3: Default Analysis - Grade based study"
   ]
  },
  {
   "cell_type": "code",
   "execution_count": 54,
   "metadata": {},
   "outputs": [
    {
     "name": "stdout",
     "output_type": "stream",
     "text": [
      "loan_status  Charged Off  Current  Fully Paid  Ratio\n",
      "grade                                               \n",
      "A                    602       40        9443   0.06\n",
      "B                   1425      345       10250   0.14\n",
      "C                   1347      264        6487   0.21\n",
      "D                   1118      222        3967   0.28\n",
      "E                    715      179        1948   0.37\n",
      "F                    319       73         657   0.49\n",
      "G                    101       17         198   0.51\n"
     ]
    },
    {
     "data": {
      "image/png": "[encoded data removed]",
      "text/plain": [
       "<Figure size 432x288 with 1 Axes>"
      ]
     },
     "metadata": {},
     "output_type": "display_data"
    },
    {
     "name": "stdout",
     "output_type": "stream",
     "text": [
      "0.2942857142857143\n"
     ]
    }
   ],
   "source": [
    "Loan_Src2_Analysis = Loan_Src2.pivot_table(values='id',index='grade',columns='loan_status',aggfunc='count')\n",
    "Loan_Src2_Analysis['Ratio']=round(Loan_Src2_Analysis['Charged Off']/Loan_Src2_Analysis['Fully Paid'],2)\n",
    "print(Loan_Src2_Analysis)\n",
    "data = Loan_Src2_Analysis[\"Ratio\"]\n",
    "pal = sns.color_palette(\"coolwarm\", len(data))\n",
    "rank = data.argsort().argsort()\n",
    "sns.barplot(x=data.index, y=data, palette=np.array(pal[::-1])[rank])\n",
    "#Loan_Src2_Analysis.plot(y=[\"Ratio\"],kind=\"bar\")\n",
    "plt.show()\n",
    "print(Loan_Src2_Analysis['Ratio'].mean())"
   ]
  },
  {
   "cell_type": "markdown",
   "metadata": {},
   "source": [
    "#### Entity having Loan grade A-C are low risk, D- moderate risk, E-G - high risk"
   ]
  },
  {
   "cell_type": "markdown",
   "metadata": {},
   "source": [
    "## Analysis 4: State wise Default ratio"
   ]
  },
  {
   "cell_type": "code",
   "execution_count": 55,
   "metadata": {
    "scrolled": true
   },
   "outputs": [
    {
     "name": "stdout",
     "output_type": "stream",
     "text": [
      "0.18140060000000008\n"
     ]
    }
   ],
   "source": [
    "import squarify\n",
    "Loan_Src2_Analysis = Loan_Src2.pivot_table(values='id',index='addr_state',columns='loan_status',aggfunc='count')\n",
    "Loan_Src2_Analysis['Ratio']=round(Loan_Src2_Analysis['Charged Off']/Loan_Src2_Analysis['Fully Paid'],2)\n",
    "Data=Loan_Src2_Analysis\n",
    "Data.fillna(0.00001,inplace=True)\n",
    "Data['state']=Data.index\n",
    "Data['total']=round(Data['Charged Off']+Data['Current']+Data['Fully Paid'],0)\n",
    "Data.sort_values(by='Ratio',ascending=False,inplace=True)\n",
    "#select data with significant sample size\n",
    "Data=Data[Data['total'] > 30]\n",
    "Data.to_csv('Statewise.csv')\n",
    "print(Loan_Src2_Analysis['Ratio'].mean())"
   ]
  },
  {
   "cell_type": "markdown",
   "metadata": {},
   "source": [
    "#### the eastern states are generally showing risk indicators as high; the SE states are also generally showing high risk indicators\n",
    "#### please see the map for more details"
   ]
  },
  {
   "cell_type": "markdown",
   "metadata": {},
   "source": [
    "## Analysis 6 - Defaulter ratio employment length wise"
   ]
  },
  {
   "cell_type": "code",
   "execution_count": 56,
   "metadata": {},
   "outputs": [
    {
     "name": "stdout",
     "output_type": "stream",
     "text": [
      "loan_status  Charged Off  Current  Fully Paid  Ratio\n",
      "emp_length                                          \n",
      "1 year               456       71        2713   0.17\n",
      "10+ years           1331      391        7157   0.19\n",
      "2 years              567       97        3724   0.15\n",
      "3 years              555       83        3457   0.16\n",
      "4 years              462       94        2880   0.16\n",
      "5 years              458       88        2736   0.17\n",
      "6 years              307       61        1861   0.16\n",
      "7 years              263       62        1448   0.18\n",
      "8 years              203       44        1232   0.16\n",
      "9 years              158       32        1068   0.15\n",
      "< 1 year             639       75        3869   0.17\n"
     ]
    },
    {
     "data": {
      "image/png": "[encoded data removed]",
      "text/plain": [
       "<Figure size 864x360 with 1 Axes>"
      ]
     },
     "metadata": {},
     "output_type": "display_data"
    },
    {
     "name": "stdout",
     "output_type": "stream",
     "text": [
      "0.1654545454545454\n"
     ]
    }
   ],
   "source": [
    "Loan_Src2_Analysis = Loan_Src2.pivot_table(values='id',index='emp_length',columns='loan_status',aggfunc='count')\n",
    "Loan_Src2_Analysis['Ratio']=round(Loan_Src2_Analysis['Charged Off']/Loan_Src2_Analysis['Fully Paid'],2)\n",
    "print(Loan_Src2_Analysis)\n",
    "data = Loan_Src2_Analysis[\"Ratio\"]\n",
    "pal = sns.color_palette(\"coolwarm\", len(data))\n",
    "rank = data.argsort().argsort()\n",
    "# figure size\n",
    "plt.figure(figsize=(12,5))\n",
    "\n",
    "sns.barplot(x=data.index, y=data, palette=np.array(pal[::-1])[rank])\n",
    "plt.show()\n",
    "print(Loan_Src2_Analysis['Ratio'].mean())"
   ]
  },
  {
   "cell_type": "markdown",
   "metadata": {},
   "source": [
    "#### No significant trend available"
   ]
  },
  {
   "cell_type": "markdown",
   "metadata": {},
   "source": [
    "## Analysis 7 - Defaulter ratio purpose wise"
   ]
  },
  {
   "cell_type": "code",
   "execution_count": 57,
   "metadata": {},
   "outputs": [
    {
     "name": "stdout",
     "output_type": "stream",
     "text": [
      "loan_status         Charged Off  Current  Fully Paid  Ratio\n",
      "purpose                                                    \n",
      "car                       160.0     50.0      1339.0   0.12\n",
      "credit_card               542.0    103.0      4485.0   0.12\n",
      "debt_consolidation       2767.0    586.0     15288.0   0.18\n",
      "educational                56.0      NaN       269.0   0.21\n",
      "home_improvement          347.0    101.0      2528.0   0.14\n",
      "house                      59.0     14.0       308.0   0.19\n",
      "major_purchase            222.0     37.0      1928.0   0.12\n",
      "medical                   106.0     12.0       575.0   0.18\n",
      "moving                     92.0      7.0       484.0   0.19\n",
      "other                     633.0    128.0      3232.0   0.20\n",
      "renewable_energy           19.0      1.0        83.0   0.23\n",
      "small_business            475.0     74.0      1279.0   0.37\n",
      "vacation                   53.0      6.0       322.0   0.16\n",
      "wedding                    96.0     21.0       830.0   0.12\n"
     ]
    },
    {
     "data": {
      "image/png": "[encoded data removed]",
      "text/plain": [
       "<Figure size 1296x576 with 1 Axes>"
      ]
     },
     "metadata": {},
     "output_type": "display_data"
    },
    {
     "name": "stdout",
     "output_type": "stream",
     "text": [
      "0.18071428571428574\n"
     ]
    }
   ],
   "source": [
    "Loan_Src2_Analysis = Loan_Src2.pivot_table(values='id',index='purpose',columns='loan_status',aggfunc='count')\n",
    "Loan_Src2_Analysis['Ratio']=round(Loan_Src2_Analysis['Charged Off']/Loan_Src2_Analysis['Fully Paid'],2)\n",
    "print(Loan_Src2_Analysis)\n",
    "data = Loan_Src2_Analysis[\"Ratio\"]\n",
    "pal = sns.color_palette(\"coolwarm\", len(data))\n",
    "rank = data.argsort().argsort()\n",
    "# figure size\n",
    "plt.figure(figsize=(18,8))\n",
    "\n",
    "sns.barplot(x=data.index, y=data, palette=np.array(pal[::-1])[rank])\n",
    "plt.show()\n",
    "print(Loan_Src2_Analysis['Ratio'].mean())"
   ]
  },
  {
   "cell_type": "markdown",
   "metadata": {},
   "source": [
    "#### car/credit_card/major_purchase/wedding/improvement/vacation - low risk ; \n",
    "##### small business/renewable energy/other/education/ - high risk; \n",
    "##### consolidation/moving/house/medical - moderate risk"
   ]
  },
  {
   "cell_type": "markdown",
   "metadata": {},
   "source": [
    "## Analysis 8 - Defaulter ratio DTI based analysis"
   ]
  },
  {
   "cell_type": "code",
   "execution_count": 58,
   "metadata": {},
   "outputs": [
    {
     "name": "stdout",
     "output_type": "stream",
     "text": [
      "loan_status  Charged Off  Current  Fully Paid  Ratio\n",
      "DTIClass                                            \n",
      "0-5                  626       98        4436   0.14\n",
      "11-15               1402      269        8228   0.17\n",
      "16-20               1389      284        7422   0.19\n",
      "21-25               1118      237        5460   0.20\n",
      "26-30                 87       53         536   0.16\n",
      "5-10                1005      199        6868   0.15\n"
     ]
    },
    {
     "data": {
      "image/png": "[encoded data removed]",
      "text/plain": [
       "<Figure size 432x288 with 1 Axes>"
      ]
     },
     "metadata": {},
     "output_type": "display_data"
    },
    {
     "name": "stdout",
     "output_type": "stream",
     "text": [
      "0.16833333333333333\n"
     ]
    }
   ],
   "source": [
    "Loan_Src2_Analysis = Loan_Src2.pivot_table(values='id',index='DTIClass',columns='loan_status',aggfunc='count')\n",
    "Loan_Src2_Analysis['Ratio']=round(Loan_Src2_Analysis['Charged Off']/Loan_Src2_Analysis['Fully Paid'],2)\n",
    "print(Loan_Src2_Analysis)\n",
    "\n",
    "\n",
    "data = Loan_Src2_Analysis[\"Ratio\"]\n",
    "pal = sns.color_palette(\"coolwarm\", len(data))\n",
    "rank = data.argsort().argsort()\n",
    "\n",
    "sns.barplot(x=data.index, y=data, palette=np.array(pal[::-1])[rank])\n",
    "plt.show()\n",
    "print(Loan_Src2_Analysis['Ratio'].mean())"
   ]
  },
  {
   "cell_type": "markdown",
   "metadata": {},
   "source": [
    "#### dti value : 16- 25 has high risk; 11-15 & 26-30 has moderate risk and 0-10 has low risk "
   ]
  },
  {
   "cell_type": "markdown",
   "metadata": {},
   "source": [
    "## Analysis 9 - Earliest Credit Line analysis"
   ]
  },
  {
   "cell_type": "code",
   "execution_count": 35,
   "metadata": {},
   "outputs": [
    {
     "name": "stdout",
     "output_type": "stream",
     "text": [
      "loan_status  Charged Off  Current  Fully Paid  Ratio    total\n",
      "cr_line_Yr                                                   \n",
      "1970                 7.0      1.0        40.0   0.18     48.0\n",
      "1971                 5.0      1.0        40.0   0.12     46.0\n",
      "1972                 8.0      4.0        41.0   0.20     53.0\n",
      "1973                12.0      5.0        49.0   0.24     66.0\n",
      "1974                 6.0      3.0        56.0   0.11     65.0\n",
      "1976                 4.0      4.0        89.0   0.04     97.0\n",
      "1977                13.0      3.0        99.0   0.13    115.0\n",
      "1978                23.0      4.0       138.0   0.17    165.0\n",
      "1979                31.0      8.0       126.0   0.25    165.0\n",
      "1980                16.0      5.0       159.0   0.10    180.0\n",
      "1981                20.0      6.0       161.0   0.12    187.0\n",
      "1982                32.0      9.0       183.0   0.17    224.0\n",
      "1983                53.0     16.0       269.0   0.20    338.0\n",
      "1984                49.0     14.0       346.0   0.14    409.0\n",
      "1985                66.0     22.0       373.0   0.18    461.0\n",
      "1986                53.0     22.0       425.0   0.12    500.0\n",
      "1987                77.0     28.0       513.0   0.15    618.0\n",
      "1988               106.0     31.0       603.0   0.18    740.0\n",
      "1989               112.0     27.0       722.0   0.16    861.0\n",
      "1990               125.0     33.0       880.0   0.14   1038.0\n",
      "1991               143.0     35.0       802.0   0.18    980.0\n",
      "1992               135.0     34.0       894.0   0.15   1063.0\n",
      "1993               195.0     54.0      1265.0   0.15   1514.0\n",
      "1994               275.0     79.0      1673.0   0.16   2027.0\n",
      "1995               303.0     72.0      1775.0   0.17   2150.0\n",
      "1996               299.0     72.0      1903.0   0.16   2274.0\n",
      "1997               374.0     69.0      2013.0   0.19   2456.0\n",
      "1998               415.0     78.0      2358.0   0.18   2851.0\n",
      "1999               442.0     72.0      2454.0   0.18   2968.0\n",
      "2000               500.0     90.0      2660.0   0.19   3250.0\n",
      "2018              1700.0    234.0      9664.0   0.18  11598.0\n"
     ]
    },
    {
     "data": {
      "image/png": "[encoded data removed]",
      "text/plain": [
       "<Figure size 1296x576 with 1 Axes>"
      ]
     },
     "metadata": {},
     "output_type": "display_data"
    }
   ],
   "source": [
    "Loan_Src2_Analysis = Loan_Src2.pivot_table(values='id',index='cr_line_Yr',columns='loan_status',aggfunc='count')\n",
    "Loan_Src2_Analysis['Ratio']=round(Loan_Src2_Analysis['Charged Off']/Loan_Src2_Analysis['Fully Paid'],2)\n",
    "Loan_Src2_Analysis['total']=round(Loan_Src2_Analysis['Charged Off']+Loan_Src2_Analysis['Current']+Loan_Src2_Analysis['Fully Paid'],0)\n",
    "Loan_Src2_Analysis.fillna(0,inplace=True)\n",
    "#considering years with atleast 30 sample size for normal distribution behaviour of sample\n",
    "Loan_Src2_Analysis=Loan_Src2_Analysis.loc[Loan_Src2_Analysis['total']>30]\n",
    "print(Loan_Src2_Analysis)\n",
    "data = Loan_Src2_Analysis[\"Ratio\"]\n",
    "pal = sns.color_palette(\"coolwarm\", len(data))\n",
    "rank = data.argsort().argsort()\n",
    "# figure size\n",
    "plt.figure(figsize=(18,8))\n",
    "\n",
    "sns.barplot(x=data.index, y=data, palette=np.array(pal[::-1])[rank])\n",
    "plt.show()"
   ]
  },
  {
   "cell_type": "markdown",
   "metadata": {},
   "source": [
    "#### No significant trend available"
   ]
  },
  {
   "cell_type": "markdown",
   "metadata": {},
   "source": [
    "## Analysis 10 - Home Ownership analysis"
   ]
  },
  {
   "cell_type": "code",
   "execution_count": 59,
   "metadata": {},
   "outputs": [
    {
     "name": "stdout",
     "output_type": "stream",
     "text": [
      "loan_status     Charged Off  Current  Fully Paid  Ratio    total\n",
      "home_ownership                                                  \n",
      "MORTGAGE             2327.0    638.0     14694.0   0.16  17659.0\n",
      "NONE                    0.0      0.0         3.0   0.00      0.0\n",
      "OTHER                  18.0      0.0        80.0   0.22      0.0\n",
      "OWN                   443.0     83.0      2532.0   0.17   3058.0\n",
      "RENT                 2839.0    419.0     15641.0   0.18  18899.0\n"
     ]
    },
    {
     "data": {
      "image/png": "[encoded data removed]",
      "text/plain": [
       "<Figure size 432x288 with 1 Axes>"
      ]
     },
     "metadata": {},
     "output_type": "display_data"
    },
    {
     "name": "stdout",
     "output_type": "stream",
     "text": [
      "0.146\n"
     ]
    }
   ],
   "source": [
    "Loan_Src2_Analysis = Loan_Src2.pivot_table(values='id',index='home_ownership',columns='loan_status',aggfunc='count')\n",
    "Loan_Src2_Analysis['Ratio']=round(Loan_Src2_Analysis['Charged Off']/Loan_Src2_Analysis['Fully Paid'],2)\n",
    "Loan_Src2_Analysis['total']=round(Loan_Src2_Analysis['Charged Off']+Loan_Src2_Analysis['Current']+Loan_Src2_Analysis['Fully Paid'],0)\n",
    "Loan_Src2_Analysis.fillna(0,inplace=True)\n",
    "#Loan_Src2_Analysis=Loan_Src2_Analysis.loc[Loan_Src2_Analysis['total']>30]\n",
    "print(Loan_Src2_Analysis)\n",
    "data = Loan_Src2_Analysis[\"Ratio\"]\n",
    "pal = sns.color_palette(\"coolwarm\", len(data))\n",
    "rank = data.argsort().argsort()\n",
    "\n",
    "sns.barplot(x=data.index, y=data, palette=np.array(pal[::-1])[rank])\n",
    "plt.show()\n",
    "print(Loan_Src2_Analysis['Ratio'].mean())"
   ]
  },
  {
   "cell_type": "markdown",
   "metadata": {},
   "source": [
    "#### Moderate risk - in Mortgage/OWN/RENT. OTHERS - High Risk"
   ]
  },
  {
   "cell_type": "markdown",
   "metadata": {},
   "source": [
    "## Analysis 11 - Public Record Analysis"
   ]
  },
  {
   "cell_type": "code",
   "execution_count": 60,
   "metadata": {},
   "outputs": [
    {
     "name": "stdout",
     "output_type": "stream",
     "text": [
      "loan_status  Charged Off  Current  Fully Paid  Ratio    total\n",
      "pub_rec                                                      \n",
      "0                 5160.0   1094.0     31347.0   0.16  37601.0\n",
      "1                  457.0     43.0      1556.0   0.29   2056.0\n",
      "2                   10.0      3.0        38.0   0.26     51.0\n"
     ]
    },
    {
     "data": {
      "image/png": "[encoded data removed]",
      "text/plain": [
       "<Figure size 432x288 with 1 Axes>"
      ]
     },
     "metadata": {},
     "output_type": "display_data"
    },
    {
     "name": "stdout",
     "output_type": "stream",
     "text": [
      "0.23666666666666666\n"
     ]
    }
   ],
   "source": [
    "Loan_Src2_Analysis = Loan_Src2.pivot_table(values='id',index='pub_rec',columns='loan_status',aggfunc='count')\n",
    "Loan_Src2_Analysis['Ratio']=round(Loan_Src2_Analysis['Charged Off']/Loan_Src2_Analysis['Fully Paid'],2)\n",
    "Loan_Src2_Analysis.fillna(0,inplace=True)\n",
    "Loan_Src2_Analysis['total']=round(Loan_Src2_Analysis['Charged Off']+Loan_Src2_Analysis['Current']+Loan_Src2_Analysis['Fully Paid'],0)\n",
    "Loan_Src2_Analysis=Loan_Src2_Analysis.loc[Loan_Src2_Analysis['total']>30]\n",
    "print(Loan_Src2_Analysis)\n",
    "data = Loan_Src2_Analysis[\"Ratio\"]\n",
    "pal = sns.color_palette(\"coolwarm\", len(data))\n",
    "rank = data.argsort().argsort()\n",
    "\n",
    "sns.barplot(x=data.index, y=data, palette=np.array(pal[::-1])[rank])\n",
    "plt.show()\n",
    "print(Loan_Src2_Analysis['Ratio'].mean())"
   ]
  },
  {
   "cell_type": "markdown",
   "metadata": {},
   "source": [
    "#### No significant trend available - sample size vary to a great extent to determine any trend"
   ]
  },
  {
   "cell_type": "markdown",
   "metadata": {},
   "source": [
    "## Analysis 12 - Total Credit Line Analysis"
   ]
  },
  {
   "cell_type": "code",
   "execution_count": 61,
   "metadata": {},
   "outputs": [
    {
     "name": "stdout",
     "output_type": "stream",
     "text": [
      "loan_status      Charged Off  Current  Fully Paid  Ratio  total\n",
      "total_acc_buckt                                                \n",
      "10                       977      103        4868   0.20   5948\n",
      "20                      2016      388       11610   0.17  14014\n",
      "30                      1485      381        9437   0.16  11303\n",
      "40                       774      196        4695   0.16   5665\n",
      "50                       282       52        1659   0.17   1993\n",
      "60                        67       16         501   0.13    584\n",
      "60+                       26        4         180   0.14    210\n"
     ]
    },
    {
     "data": {
      "image/png": "[encoded data removed]",
      "text/plain": [
       "<Figure size 720x576 with 1 Axes>"
      ]
     },
     "metadata": {},
     "output_type": "display_data"
    },
    {
     "name": "stdout",
     "output_type": "stream",
     "text": [
      "0.16142857142857145\n"
     ]
    }
   ],
   "source": [
    "Loan_Src2_Analysis = Loan_Src2.pivot_table(values='id',index='total_acc_buckt',columns='loan_status',aggfunc='count')\n",
    "Loan_Src2_Analysis['Ratio']=round(Loan_Src2_Analysis['Charged Off']/Loan_Src2_Analysis['Fully Paid'],2)\n",
    "Loan_Src2_Analysis.fillna(0,inplace=True)\n",
    "Loan_Src2_Analysis['total']=round(Loan_Src2_Analysis['Charged Off']+Loan_Src2_Analysis['Current']+Loan_Src2_Analysis['Fully Paid'],0)\n",
    "\n",
    "#Loan_Src2_Analysis=Loan_Src2_Analysis.loc[Loan_Src2_Analysis['Ratio']>0.17]\n",
    "print(Loan_Src2_Analysis)\n",
    "data = Loan_Src2_Analysis[\"Ratio\"]\n",
    "pal = sns.color_palette(\"coolwarm\", len(data))\n",
    "rank = data.argsort().argsort()\n",
    "# figure size\n",
    "plt.figure(figsize=(10,8))\n",
    "#sns.boxplot(Loan_Src2_Analysis[\"Ratio\"])\n",
    "#plt.show()\n",
    "sns.barplot(x=data.index, y=data, palette=np.array(pal[::-1])[rank])\n",
    "plt.show()\n",
    "print(Loan_Src2_Analysis['Ratio'].mean())"
   ]
  },
  {
   "cell_type": "markdown",
   "metadata": {},
   "source": [
    "#### upto 10 credit line accounts - high risk >10 and <50 - moderate risk > 50 - low risk"
   ]
  },
  {
   "cell_type": "markdown",
   "metadata": {},
   "source": [
    "## Analysis 14 - Verification Analysis"
   ]
  },
  {
   "cell_type": "code",
   "execution_count": 62,
   "metadata": {},
   "outputs": [
    {
     "name": "stdout",
     "output_type": "stream",
     "text": [
      "loan_status          Charged Off  Current  Fully Paid  Ratio  total\n",
      "verification_status                                                \n",
      "Not Verified                2142      227       14552   0.15  16921\n",
      "Source Verified             1434      310        8243   0.17   9987\n",
      "Verified                    2051      603       10155   0.20  12809\n"
     ]
    },
    {
     "data": {
      "image/png": "[encoded data removed]",
      "text/plain": [
       "<Figure size 432x288 with 1 Axes>"
      ]
     },
     "metadata": {},
     "output_type": "display_data"
    },
    {
     "name": "stdout",
     "output_type": "stream",
     "text": [
      "0.17333333333333334\n"
     ]
    }
   ],
   "source": [
    "Loan_Src2_Analysis = Loan_Src2.pivot_table(values='id',index='verification_status',columns='loan_status',aggfunc='count')\n",
    "Loan_Src2_Analysis['Ratio']=round(Loan_Src2_Analysis['Charged Off']/Loan_Src2_Analysis['Fully Paid'],2)\n",
    "Loan_Src2_Analysis.fillna(0,inplace=True)\n",
    "Loan_Src2_Analysis['total']=round(Loan_Src2_Analysis['Charged Off']+Loan_Src2_Analysis['Current']+Loan_Src2_Analysis['Fully Paid'],0)\n",
    "\n",
    "#Loan_Src2_Analysis=Loan_Src2_Analysis.loc[Loan_Src2_Analysis['total']>30]\n",
    "print(Loan_Src2_Analysis)\n",
    "data = Loan_Src2_Analysis[\"Ratio\"]\n",
    "pal = sns.color_palette(\"coolwarm\", len(data))\n",
    "rank = data.argsort().argsort()\n",
    "\n",
    "sns.barplot(x=data.index, y=data, palette=np.array(pal[::-1])[rank])\n",
    "plt.show()\n",
    "print(Loan_Src2_Analysis['Ratio'].mean())"
   ]
  },
  {
   "cell_type": "markdown",
   "metadata": {},
   "source": [
    "#### Source verification is not helping to identify risk correctly. This is an unexpected insight"
   ]
  },
  {
   "cell_type": "markdown",
   "metadata": {},
   "source": [
    "## Analysis 15 - Defaulter analysis - Installment Amount to Yearly income"
   ]
  },
  {
   "cell_type": "code",
   "execution_count": 66,
   "metadata": {
    "scrolled": false
   },
   "outputs": [
    {
     "data": {
      "image/png": "[encoded data removed]",
      "text/plain": [
       "<Figure size 1296x576 with 1 Axes>"
      ]
     },
     "metadata": {},
     "output_type": "display_data"
    }
   ],
   "source": [
    "Loan_Src2_Analysis = Loan_Src2.pivot_table(values='id',index='InstallmenttoIncomeRatio',columns='loan_status',aggfunc='count')\n",
    "Loan_Src2_Analysis.fillna(0,inplace=True)\n",
    "Loan_Src2_Analysis['Ratio']=round(Loan_Src2_Analysis['Charged Off']/Loan_Src2_Analysis['Fully Paid'],2)\n",
    "#print(Loan_Src2_Analysis)\n",
    "# figure size\n",
    "plt.figure(figsize=(18,8))\n",
    "data = Loan_Src2_Analysis[\"Ratio\"]\n",
    "pal = sns.color_palette(\"coolwarm\", len(data))\n",
    "rank = data.argsort().argsort()\n",
    "sns.barplot(x=data.index, y=data, palette=np.array(pal[::-1])[rank])\n",
    "#Loan_Src2_Analysis.plot(y=[\"Ratio\"],kind=\"bar\")\n",
    "plt.show()"
   ]
  },
  {
   "cell_type": "markdown",
   "metadata": {},
   "source": [
    "#### Finding : installment amount upto 10% of annual income has comparatively low risk of default; 10 - 15 % has moderate range of risk; above 15 % has high risk of default\n"
   ]
  },
  {
   "cell_type": "markdown",
   "metadata": {},
   "source": [
    "## Analysis 16: Defaulter Analysis - Delinquincy in last 2 years based study"
   ]
  },
  {
   "cell_type": "code",
   "execution_count": 67,
   "metadata": {},
   "outputs": [
    {
     "name": "stdout",
     "output_type": "stream",
     "text": [
      "loan_status  Charged Off  Current  Fully Paid  Ratio    total\n",
      "delinq_2yrs                                                  \n",
      "0                 4936.0   1019.0     29450.0   0.17  35405.0\n",
      "1                  507.0     96.0      2700.0   0.19   3303.0\n",
      "2                  130.0     14.0       543.0   0.24    687.0\n",
      "3                   35.0      8.0       177.0   0.20    220.0\n",
      "4                   13.0      2.0        47.0   0.28     62.0\n"
     ]
    },
    {
     "data": {
      "image/png": "[encoded data removed]",
      "text/plain": [
       "<Figure size 432x288 with 1 Axes>"
      ]
     },
     "metadata": {},
     "output_type": "display_data"
    },
    {
     "name": "stdout",
     "output_type": "stream",
     "text": [
      "0.21600000000000003\n"
     ]
    }
   ],
   "source": [
    "Loan_Src2_Analysis = Loan_Src2.pivot_table(values='id',index='delinq_2yrs',columns='loan_status',aggfunc='count')\n",
    "Loan_Src2_Analysis.fillna(0,inplace=True)\n",
    "Loan_Src2_Analysis['Ratio']=round(Loan_Src2_Analysis['Charged Off']/Loan_Src2_Analysis['Fully Paid'],2)\n",
    "Loan_Src2_Analysis['total']=round(Loan_Src2_Analysis['Charged Off']+Loan_Src2_Analysis['Current']+Loan_Src2_Analysis['Fully Paid'],0)\n",
    "Loan_Src2_Analysis=Loan_Src2_Analysis.loc[Loan_Src2_Analysis['total']>30]\n",
    "print(Loan_Src2_Analysis)\n",
    "data = Loan_Src2_Analysis[\"Ratio\"]\n",
    "pal = sns.color_palette(\"coolwarm\", len(data))\n",
    "rank = data.argsort().argsort()\n",
    "sns.barplot(x=data.index, y=data, palette=np.array(pal[::-1])[rank])\n",
    "#Loan_Src2_Analysis.plot(y=[\"Ratio\"],kind=\"bar\")\n",
    "plt.show()\n",
    "print(Loan_Src2_Analysis['Ratio'].mean())"
   ]
  },
  {
   "cell_type": "markdown",
   "metadata": {},
   "source": [
    "#### delinquincy of less than 2 times is comparatively less risky but >=2 times has higher defaulter rate"
   ]
  }
 ],
 "metadata": {
  "kernelspec": {
   "display_name": "Python 3",
   "language": "python",
   "name": "python3"
  },
  "language_info": {
   "codemirror_mode": {
    "name": "ipython",
    "version": 3
   },
   "file_extension": ".py",
   "mimetype": "text/x-python",
   "name": "python",
   "nbconvert_exporter": "python",
   "pygments_lexer": "ipython3",
   "version": "3.6.5"
  }
 },
 "nbformat": 4,
 "nbformat_minor": 2
}
